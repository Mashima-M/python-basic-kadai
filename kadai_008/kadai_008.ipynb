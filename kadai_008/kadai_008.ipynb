{
  "nbformat": 4,
  "nbformat_minor": 0,
  "metadata": {
    "colab": {
      "provenance": []
    },
    "kernelspec": {
      "name": "python3",
      "display_name": "Python 3"
    },
    "language_info": {
      "name": "python"
    }
  },
  "cells": [
    {
      "cell_type": "code",
      "source": [
        "import random\n",
        "\n",
        "var = random.randint(0,15)\n",
        "print(var)\n",
        "\n",
        "if var % 3 == 0:\n",
        "    print(\"Fizz\")\n",
        "elif var % 5 == 0:\n",
        "    print(\"Buzz\")\n",
        "elif var % 3 == 0 and var % 5 == 0:\n",
        "    print(\"FizzBuzz\")\n",
        "else:\n",
        "    print(var)\n",
        "\n"
      ],
      "metadata": {
        "colab": {
          "base_uri": "https://localhost:8080/"
        },
        "id": "g_FeeDqEHfRV",
        "outputId": "9442466d-81c8-4eea-ba71-4c75ade46bb0"
      },
      "execution_count": 16,
      "outputs": [
        {
          "output_type": "stream",
          "name": "stdout",
          "text": [
            "7\n",
            "7\n"
          ]
        }
      ]
    }
  ]
}