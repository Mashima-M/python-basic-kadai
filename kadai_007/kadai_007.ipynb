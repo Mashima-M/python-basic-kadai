{
 "cells": [
  {
   "cell_type": "code",
   "execution_count": null,
   "metadata": {
    "colab": {
     "base_uri": "https://localhost:8080/"
    },
    "executionInfo": {
     "elapsed": 7,
     "status": "ok",
     "timestamp": 1741486936442,
     "user": {
      "displayName": "Megumi Dambayashi",
      "userId": "05183722901200443079"
     },
     "user_tz": -540
    },
    "id": "vgwsg5nmm2LP",
    "outputId": "7349035c-1145-4dfd-923c-e686070e713e"
   },
   "outputs": [
    {
     "name": "stdout",
     "output_type": "stream",
     "text": [
      "['月曜日は晴れです', '火曜日は雨です', '水曜部は晴れです', '木曜日は晴れです', '金曜日は曇りです', '土曜日は曇りのち雨です', '日曜日は雷雨です']\n"
     ]
    }
   ],
   "source": [
    "#リスト\n",
    "array = [\"月曜日は晴れです\",\n",
    "          \"火曜日は雨です\",\n",
    "          \"水曜部は晴れです\",\n",
    "          \"木曜日は晴れです\",\n",
    "          \"金曜日は曇りです\",\n",
    "          \"土曜日は曇りのち雨です\",\n",
    "          \"日曜日は雷雨です\"]\n",
    "print(array)"
   ]
  },
  {
   "cell_type": "code",
   "execution_count": 8,
   "metadata": {
    "colab": {
     "base_uri": "https://localhost:8080/"
    },
    "executionInfo": {
     "elapsed": 7,
     "status": "ok",
     "timestamp": 1741488389352,
     "user": {
      "displayName": "Megumi Dambayashi",
      "userId": "05183722901200443079"
     },
     "user_tz": -540
    },
    "id": "QtVLFIE5tQ1w",
    "outputId": "969f264b-a68b-41b2-c44a-791c2270d2b2"
   },
   "outputs": [
    {
     "name": "stdout",
     "output_type": "stream",
     "text": [
      "{'mon': '晴れ', 'tue': '雨', 'wed': '晴れ', 'thu': '晴れ', 'fri': '曇り', 'sat': '曇りのち雨', 'sun': '雷雨'}\n"
     ]
    }
   ],
   "source": [
    "#ディクショナリ\n",
    "dictionary = {\"mon\": \"晴れ\",\n",
    "              \"tue\": \"雨\",\n",
    "              \"wed\": \"晴れ\",\n",
    "              \"thu\": \"晴れ\",\n",
    "              \"fri\": \"曇り\",\n",
    "              \"sat\": \"曇りのち雨\",\n",
    "              \"sun\": \"雷雨\"}\n",
    "print(dictionary)"
   ]
  }
 ],
 "metadata": {
  "colab": {
   "authorship_tag": "ABX9TyOEjRJAAULVDV2en5UL6DQA",
   "provenance": []
  },
  "kernelspec": {
   "display_name": "Python 3",
   "name": "python3"
  },
  "language_info": {
   "name": "python"
  }
 },
 "nbformat": 4,
 "nbformat_minor": 0
}
