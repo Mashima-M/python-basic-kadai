{
  "nbformat": 4,
  "nbformat_minor": 0,
  "metadata": {
    "colab": {
      "provenance": []
    },
    "kernelspec": {
      "name": "python3",
      "display_name": "Python 3"
    },
    "language_info": {
      "name": "python"
    }
  },
  "cells": [
    {
      "cell_type": "code",
      "execution_count": 1,
      "metadata": {
        "colab": {
          "base_uri": "https://localhost:8080/"
        },
        "id": "vgwsg5nmm2LP",
        "outputId": "6e9a3c0d-148e-456f-fa97-0bdf193aadde"
      },
      "outputs": [
        {
          "output_type": "stream",
          "name": "stdout",
          "text": [
            "水曜部は晴れです\n"
          ]
        }
      ],
      "source": [
        "#リスト\n",
        "array = [\"月曜日は晴れです\",\n",
        "          \"火曜日は雨です\",\n",
        "          \"水曜部は晴れです\",\n",
        "          \"木曜日は晴れです\",\n",
        "          \"金曜日は曇りです\",\n",
        "          \"土曜日は曇りのち雨です\",\n",
        "          \"日曜日は雷雨です\"]\n",
        "print(array[2])"
      ]
    },
    {
      "cell_type": "code",
      "source": [
        "#ディクショナリ\n",
        "dictionary = {\"mon\": \"晴れ\",\n",
        "              \"tue\": \"雨\",\n",
        "              \"wed\": \"晴れ\",\n",
        "              \"thu\": \"晴れ\",\n",
        "              \"fri\": \"曇り\",\n",
        "              \"sat\": \"曇りのち雨\",\n",
        "              \"sun\": \"雷雨\"}\n",
        "print(dictionary[\"wed\"])"
      ],
      "metadata": {
        "colab": {
          "base_uri": "https://localhost:8080/"
        },
        "id": "QtVLFIE5tQ1w",
        "outputId": "8d9bb413-15f1-4d7e-cb1e-70fbf19c6037"
      },
      "execution_count": 2,
      "outputs": [
        {
          "output_type": "stream",
          "name": "stdout",
          "text": [
            "晴れ\n"
          ]
        }
      ]
    }
  ]
}