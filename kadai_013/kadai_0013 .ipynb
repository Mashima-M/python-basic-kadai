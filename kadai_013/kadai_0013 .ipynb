{
  "nbformat": 4,
  "nbformat_minor": 0,
  "metadata": {
    "colab": {
      "provenance": []
    },
    "kernelspec": {
      "name": "python3",
      "display_name": "Python 3"
    },
    "language_info": {
      "name": "python"
    }
  },
  "cells": [
    {
      "cell_type": "code",
      "source": [
        "#練習\n",
        "def calculate_total(price,tax_rate):\n",
        "\n",
        "    total = price * tax_rate\n",
        "\n",
        "    print(f\"{total}円\")\n",
        "\n",
        "calculate_total(110,1.1)"
      ],
      "metadata": {
        "colab": {
          "base_uri": "https://localhost:8080/"
        },
        "id": "tsK4YPTQ1VPT",
        "outputId": "08893663-15b6-47d6-f9c6-9bab8032a8f9"
      },
      "execution_count": null,
      "outputs": [
        {
          "output_type": "stream",
          "name": "stdout",
          "text": [
            "121.00000000000001円\n"
          ]
        }
      ]
    },
    {
      "cell_type": "code",
      "source": [
        "#練習\n",
        "print(5 % 2)  # 1"
      ],
      "metadata": {
        "colab": {
          "base_uri": "https://localhost:8080/"
        },
        "id": "YvKEpitN-XDi",
        "outputId": "e670f6b9-cee5-4d1c-c9ed-708678fe0d84"
      },
      "execution_count": null,
      "outputs": [
        {
          "output_type": "stream",
          "name": "stdout",
          "text": [
            "1\n"
          ]
        }
      ]
    },
    {
      "cell_type": "code",
      "source": [
        "#練習\n",
        "print(5 / 2)"
      ],
      "metadata": {
        "colab": {
          "base_uri": "https://localhost:8080/"
        },
        "id": "EmfG2Owt-nX1",
        "outputId": "3cad05e6-b59c-4c50-8b6f-ffe88cf217c2"
      },
      "execution_count": null,
      "outputs": [
        {
          "output_type": "stream",
          "name": "stdout",
          "text": [
            "2.5\n"
          ]
        }
      ]
    },
    {
      "cell_type": "markdown",
      "source": [],
      "metadata": {
        "id": "orpsMIkCCYdn"
      }
    },
    {
      "cell_type": "code",
      "source": [
        "#kadai_013の回答\n",
        "\n",
        "def calculate_total(price,tax_rate):\n",
        "\n",
        "    total = price + price / tax_rate\n",
        "\n",
        "    print(f\"{total}円\")\n",
        "\n",
        "calculate_total(110,10)"
      ],
      "metadata": {
        "colab": {
          "base_uri": "https://localhost:8080/"
        },
        "id": "0kSWmZj95BAH",
        "outputId": "c9559bbc-6242-4a12-e27e-f06d4eb263a1"
      },
      "execution_count": 17,
      "outputs": [
        {
          "output_type": "stream",
          "name": "stdout",
          "text": [
            "121.0円\n"
          ]
        }
      ]
    },
    {
      "cell_type": "code",
      "source": [
        "#練習\n",
        "def calculate_total(price,tax_rate):\n",
        "\n",
        "    if calculate_total:\n",
        "        total = price + price * tax_rate / 100\n",
        "        return total\n",
        "\n",
        "    print(f\"{total}円\")\n",
        "\n",
        "calculate_total(110,10)"
      ],
      "metadata": {
        "colab": {
          "base_uri": "https://localhost:8080/"
        },
        "id": "0fl5wNC0im48",
        "outputId": "90a2ce57-4248-4b4b-cc63-c396f6e9bf02"
      },
      "execution_count": 10,
      "outputs": [
        {
          "output_type": "execute_result",
          "data": {
            "text/plain": [
              "121.0"
            ]
          },
          "metadata": {},
          "execution_count": 10
        }
      ]
    },
    {
      "cell_type": "code",
      "source": [
        "#練習\n",
        "def calculate_total(price,tax_rate):\n",
        "\n",
        "    if calculate_total:\n",
        "       total = price + price * tax_rate / 100\n",
        "       return total\n",
        "\n",
        "    print(f\"{total}円\")\n",
        "\n",
        "calculate_total(110,10)"
      ],
      "metadata": {
        "colab": {
          "base_uri": "https://localhost:8080/"
        },
        "id": "GzZB2wsc1xwa",
        "outputId": "009dddfb-6304-483a-f848-dce5fc6e1968"
      },
      "execution_count": 28,
      "outputs": [
        {
          "output_type": "execute_result",
          "data": {
            "text/plain": [
              "121.0"
            ]
          },
          "metadata": {},
          "execution_count": 28
        }
      ]
    },
    {
      "cell_type": "code",
      "source": [
        "#練習\n",
        "\n",
        "def add_tax(price,tax):\n",
        "    tax = price * tax / 100\n",
        "    total = price + tax\n",
        "    return  total\n",
        "\n",
        "print(f\"{add_tax(110,10)}円\")"
      ],
      "metadata": {
        "colab": {
          "base_uri": "https://localhost:8080/"
        },
        "id": "3QcsdrosumRZ",
        "outputId": "b99678b4-595e-4fcc-a7c8-2daab4606b98"
      },
      "execution_count": 41,
      "outputs": [
        {
          "output_type": "stream",
          "name": "stdout",
          "text": [
            "121.0円\n"
          ]
        }
      ]
    },
    {
      "cell_type": "code",
      "source": [
        "#練習\n",
        "def add_tax(price,tax):\n",
        "    tax = price * tax / 100\n",
        "    total = price + tax\n",
        "    print(f\"{total}円\")\n",
        "\n",
        "add_tax(110,10)\n",
        "#Q：returnで返すのとprintするだけの時の使用用途の違い？"
      ],
      "metadata": {
        "colab": {
          "base_uri": "https://localhost:8080/"
        },
        "id": "7Plp38fj2s3f",
        "outputId": "305abd9f-e2d3-4a04-de35-d65aec701ccf"
      },
      "execution_count": 39,
      "outputs": [
        {
          "output_type": "stream",
          "name": "stdout",
          "text": [
            "121.0円\n"
          ]
        }
      ]
    },
    {
      "cell_type": "code",
      "source": [
        "#kadai_013の再提出\n",
        "def add_tax(price,tax):\n",
        "    tax = price * tax / 100\n",
        "    return  price + tax\n",
        "\n",
        "print(f\"{add_tax(110,10)}円\")"
      ],
      "metadata": {
        "colab": {
          "base_uri": "https://localhost:8080/"
        },
        "id": "3IdZdJnk1uGK",
        "outputId": "132f1244-42bd-4e38-fd01-f9372d219b71"
      },
      "execution_count": 23,
      "outputs": [
        {
          "output_type": "stream",
          "name": "stdout",
          "text": [
            "121.0円\n"
          ]
        }
      ]
    }
  ]
}